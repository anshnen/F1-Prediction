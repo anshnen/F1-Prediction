{
 "cells": [
  {
   "cell_type": "markdown",
   "id": "dd3bafeb5259351",
   "metadata": {
    "collapsed": false,
    "jupyter": {
     "outputs_hidden": false
    }
   },
   "source": [
    "# Executive Summary: Exploratory Data Analysis on F1 Dataset\n",
    "Author: Ansh Nenwani"
   ]
  },
  {
   "cell_type": "code",
   "execution_count": 1,
   "id": "54fe12c68fb25011",
   "metadata": {
    "ExecuteTime": {
     "end_time": "2024-03-28T02:17:29.719864Z",
     "start_time": "2024-03-28T02:17:29.717694Z"
    },
    "collapsed": false,
    "jupyter": {
     "outputs_hidden": false
    }
   },
   "outputs": [],
   "source": [
    "import pandas as pd"
   ]
  },
  {
   "cell_type": "markdown",
   "id": "261681b01af73880",
   "metadata": {
    "collapsed": false,
    "jupyter": {
     "outputs_hidden": false
    }
   },
   "source": [
    "## Project Overview\n",
    "The purpose of this EDA is to learn more about the features of the F1 dataset to classify if a drive will finish on the podium(Top 3 places)."
   ]
  },
  {
   "cell_type": "markdown",
   "id": "928d67cc4e808a9",
   "metadata": {
    "collapsed": false,
    "jupyter": {
     "outputs_hidden": false
    }
   },
   "source": [
    "## Dataset Description\n",
    "- The dataset consists of 15134 instance and has 14 attributes.\n",
    "- The target variable is top_3, which indicates if a driver finished in the top 3 positions or not, this represents the class we will predict.\n",
    "- The features include, driver_avg_finish_pos_season, top3_driver_season_percentage, driver_avg_finish_pos_season_lag, top3_driver_season_percentage_lag, Constructor_Top3_Percent, and grid, among others which will be explored in detail."
   ]
  },
  {
   "cell_type": "markdown",
   "id": "9d24774dffa38f34",
   "metadata": {
    "collapsed": false,
    "jupyter": {
     "outputs_hidden": false
    }
   },
   "source": [
    "## Key Findings"
   ]
  },
  {
   "cell_type": "markdown",
   "id": "3b1cfffb33f18ebf",
   "metadata": {
    "collapsed": false,
    "jupyter": {
     "outputs_hidden": false
    }
   },
   "source": [
    "### 1. Data Distribution\n",
    "- Target variable distribution:   \n",
    "![Top 3 Distribution](Images/TargetDistribution.png)  \n",
    "The distribution of the target varibale indicates that there are more many more instances that are not top 3 then instances that are top 3 instances\n",
    "- Class imbalance is observed with 83.45% of instances belong to finished not in the top 3 and 16.55% belong to top 3 finishes"
   ]
  },
  {
   "cell_type": "code",
   "execution_count": 2,
   "id": "d90be00ddc8c3ac3",
   "metadata": {
    "ExecuteTime": {
     "end_time": "2024-03-28T02:17:29.769685Z",
     "start_time": "2024-03-28T02:17:29.740413Z"
    },
    "collapsed": false,
    "jupyter": {
     "outputs_hidden": false
    }
   },
   "outputs": [
    {
     "data": {
      "text/html": [
       "<div>\n",
       "<style scoped>\n",
       "    .dataframe tbody tr th:only-of-type {\n",
       "        vertical-align: middle;\n",
       "    }\n",
       "\n",
       "    .dataframe tbody tr th {\n",
       "        vertical-align: top;\n",
       "    }\n",
       "\n",
       "    .dataframe thead th {\n",
       "        text-align: right;\n",
       "    }\n",
       "</style>\n",
       "<table border=\"1\" class=\"dataframe\">\n",
       "  <thead>\n",
       "    <tr style=\"text-align: right;\">\n",
       "      <th></th>\n",
       "      <th>count</th>\n",
       "      <th>mean</th>\n",
       "      <th>std</th>\n",
       "      <th>min</th>\n",
       "      <th>25%</th>\n",
       "      <th>50%</th>\n",
       "      <th>75%</th>\n",
       "      <th>max</th>\n",
       "    </tr>\n",
       "  </thead>\n",
       "  <tbody>\n",
       "    <tr>\n",
       "      <th>Unnamed: 0</th>\n",
       "      <td>15134.0</td>\n",
       "      <td>11171.679133</td>\n",
       "      <td>6705.720793</td>\n",
       "      <td>0.0</td>\n",
       "      <td>5267.25</td>\n",
       "      <td>11013.500000</td>\n",
       "      <td>16703.750000</td>\n",
       "      <td>23728.000000</td>\n",
       "    </tr>\n",
       "    <tr>\n",
       "      <th>grid</th>\n",
       "      <td>15134.0</td>\n",
       "      <td>10.004295</td>\n",
       "      <td>6.584569</td>\n",
       "      <td>0.0</td>\n",
       "      <td>4.00</td>\n",
       "      <td>9.000000</td>\n",
       "      <td>15.000000</td>\n",
       "      <td>31.000000</td>\n",
       "    </tr>\n",
       "    <tr>\n",
       "      <th>positionOrder</th>\n",
       "      <td>15134.0</td>\n",
       "      <td>11.596009</td>\n",
       "      <td>7.432500</td>\n",
       "      <td>1.0</td>\n",
       "      <td>5.00</td>\n",
       "      <td>11.000000</td>\n",
       "      <td>17.000000</td>\n",
       "      <td>38.000000</td>\n",
       "    </tr>\n",
       "    <tr>\n",
       "      <th>statusId</th>\n",
       "      <td>15134.0</td>\n",
       "      <td>14.058081</td>\n",
       "      <td>23.289399</td>\n",
       "      <td>1.0</td>\n",
       "      <td>1.00</td>\n",
       "      <td>5.000000</td>\n",
       "      <td>12.000000</td>\n",
       "      <td>141.000000</td>\n",
       "    </tr>\n",
       "    <tr>\n",
       "      <th>year</th>\n",
       "      <td>15134.0</td>\n",
       "      <td>1995.060526</td>\n",
       "      <td>17.013668</td>\n",
       "      <td>1959.0</td>\n",
       "      <td>1982.00</td>\n",
       "      <td>1994.000000</td>\n",
       "      <td>2011.000000</td>\n",
       "      <td>2023.000000</td>\n",
       "    </tr>\n",
       "    <tr>\n",
       "      <th>points_constructor</th>\n",
       "      <td>15134.0</td>\n",
       "      <td>49.256409</td>\n",
       "      <td>90.222775</td>\n",
       "      <td>0.0</td>\n",
       "      <td>4.00</td>\n",
       "      <td>16.000000</td>\n",
       "      <td>51.000000</td>\n",
       "      <td>759.000000</td>\n",
       "    </tr>\n",
       "    <tr>\n",
       "      <th>top3_driver_season_percentage</th>\n",
       "      <td>15134.0</td>\n",
       "      <td>16.335907</td>\n",
       "      <td>25.665481</td>\n",
       "      <td>0.0</td>\n",
       "      <td>0.00</td>\n",
       "      <td>0.000000</td>\n",
       "      <td>25.000000</td>\n",
       "      <td>100.000000</td>\n",
       "    </tr>\n",
       "    <tr>\n",
       "      <th>driver_avg_finish_pos_season</th>\n",
       "      <td>15134.0</td>\n",
       "      <td>11.589004</td>\n",
       "      <td>3.730778</td>\n",
       "      <td>3.0</td>\n",
       "      <td>9.00</td>\n",
       "      <td>11.078431</td>\n",
       "      <td>13.688172</td>\n",
       "      <td>33.133333</td>\n",
       "    </tr>\n",
       "    <tr>\n",
       "      <th>Constructor_Top3_Percent</th>\n",
       "      <td>15134.0</td>\n",
       "      <td>16.458303</td>\n",
       "      <td>22.713919</td>\n",
       "      <td>0.0</td>\n",
       "      <td>0.00</td>\n",
       "      <td>4.166667</td>\n",
       "      <td>28.571429</td>\n",
       "      <td>116.666667</td>\n",
       "    </tr>\n",
       "    <tr>\n",
       "      <th>top3_driver_season_percentage_lag</th>\n",
       "      <td>15134.0</td>\n",
       "      <td>15.628664</td>\n",
       "      <td>25.194276</td>\n",
       "      <td>0.0</td>\n",
       "      <td>0.00</td>\n",
       "      <td>0.000000</td>\n",
       "      <td>25.000000</td>\n",
       "      <td>100.000000</td>\n",
       "    </tr>\n",
       "    <tr>\n",
       "      <th>driver_avg_finish_pos_season_lag</th>\n",
       "      <td>15134.0</td>\n",
       "      <td>11.589004</td>\n",
       "      <td>3.730778</td>\n",
       "      <td>3.0</td>\n",
       "      <td>9.00</td>\n",
       "      <td>11.078431</td>\n",
       "      <td>13.688172</td>\n",
       "      <td>33.133333</td>\n",
       "    </tr>\n",
       "    <tr>\n",
       "      <th>Constructor_Top3_Percent_lag</th>\n",
       "      <td>15134.0</td>\n",
       "      <td>15.967285</td>\n",
       "      <td>22.366912</td>\n",
       "      <td>0.0</td>\n",
       "      <td>0.00</td>\n",
       "      <td>4.166667</td>\n",
       "      <td>26.666667</td>\n",
       "      <td>150.000000</td>\n",
       "    </tr>\n",
       "    <tr>\n",
       "      <th>position_constructor</th>\n",
       "      <td>15134.0</td>\n",
       "      <td>5.755187</td>\n",
       "      <td>3.710747</td>\n",
       "      <td>1.0</td>\n",
       "      <td>3.00</td>\n",
       "      <td>5.000000</td>\n",
       "      <td>8.000000</td>\n",
       "      <td>20.000000</td>\n",
       "    </tr>\n",
       "  </tbody>\n",
       "</table>\n",
       "</div>"
      ],
      "text/plain": [
       "                                     count          mean          std     min  \\\n",
       "Unnamed: 0                         15134.0  11171.679133  6705.720793     0.0   \n",
       "grid                               15134.0     10.004295     6.584569     0.0   \n",
       "positionOrder                      15134.0     11.596009     7.432500     1.0   \n",
       "statusId                           15134.0     14.058081    23.289399     1.0   \n",
       "year                               15134.0   1995.060526    17.013668  1959.0   \n",
       "points_constructor                 15134.0     49.256409    90.222775     0.0   \n",
       "top3_driver_season_percentage      15134.0     16.335907    25.665481     0.0   \n",
       "driver_avg_finish_pos_season       15134.0     11.589004     3.730778     3.0   \n",
       "Constructor_Top3_Percent           15134.0     16.458303    22.713919     0.0   \n",
       "top3_driver_season_percentage_lag  15134.0     15.628664    25.194276     0.0   \n",
       "driver_avg_finish_pos_season_lag   15134.0     11.589004     3.730778     3.0   \n",
       "Constructor_Top3_Percent_lag       15134.0     15.967285    22.366912     0.0   \n",
       "position_constructor               15134.0      5.755187     3.710747     1.0   \n",
       "\n",
       "                                       25%           50%           75%  \\\n",
       "Unnamed: 0                         5267.25  11013.500000  16703.750000   \n",
       "grid                                  4.00      9.000000     15.000000   \n",
       "positionOrder                         5.00     11.000000     17.000000   \n",
       "statusId                              1.00      5.000000     12.000000   \n",
       "year                               1982.00   1994.000000   2011.000000   \n",
       "points_constructor                    4.00     16.000000     51.000000   \n",
       "top3_driver_season_percentage         0.00      0.000000     25.000000   \n",
       "driver_avg_finish_pos_season          9.00     11.078431     13.688172   \n",
       "Constructor_Top3_Percent              0.00      4.166667     28.571429   \n",
       "top3_driver_season_percentage_lag     0.00      0.000000     25.000000   \n",
       "driver_avg_finish_pos_season_lag      9.00     11.078431     13.688172   \n",
       "Constructor_Top3_Percent_lag          0.00      4.166667     26.666667   \n",
       "position_constructor                  3.00      5.000000      8.000000   \n",
       "\n",
       "                                            max  \n",
       "Unnamed: 0                         23728.000000  \n",
       "grid                                  31.000000  \n",
       "positionOrder                         38.000000  \n",
       "statusId                             141.000000  \n",
       "year                                2023.000000  \n",
       "points_constructor                   759.000000  \n",
       "top3_driver_season_percentage        100.000000  \n",
       "driver_avg_finish_pos_season          33.133333  \n",
       "Constructor_Top3_Percent             116.666667  \n",
       "top3_driver_season_percentage_lag    100.000000  \n",
       "driver_avg_finish_pos_season_lag      33.133333  \n",
       "Constructor_Top3_Percent_lag         150.000000  \n",
       "position_constructor                  20.000000  "
      ]
     },
     "execution_count": 2,
     "metadata": {},
     "output_type": "execute_result"
    }
   ],
   "source": [
    "df = pd.read_csv(\"Data/Modeling_v1.csv\")\n",
    "df.describe().T"
   ]
  },
  {
   "cell_type": "markdown",
   "id": "67b203429cdd139a",
   "metadata": {
    "collapsed": false,
    "jupyter": {
     "outputs_hidden": false
    }
   },
   "source": [
    "Data for all of the numerical values looks good and in the expected ranges except for Constructor_Top3_Percent which max is above 100% which will need to be addressed in another iteration. There is no categorical data in the data set.\n"
   ]
  },
  {
   "cell_type": "markdown",
   "id": "6f85787de8a50797",
   "metadata": {
    "collapsed": false,
    "jupyter": {
     "outputs_hidden": false
    }
   },
   "source": [
    "### 2. Feature Engineering\n",
    "Went right into feature engineering because only use able feature in the original dataset was grid which isn't a great predictor by itself  \n",
    "Features created:\n",
    "- driver_avg_finish_pos_season: a drivers average finish position for that season upto the last race\n",
    "- top3_driver_season_percentage: percentage of times that a driver has finished in the top 3 for the season up to the last race\n",
    "- Constructor_Top3_Percent: percentage of times that a constructor(team) has finished in the top 3 for the season up to the last race\n",
    "- driver_avg_finish_pos_season_lag: a drivers avg finishing pos at the same round of the season last year\n",
    "- top3_driver_season_percentage_lag: percentage of times the driver finished in the top 3 at this round last year"
   ]
  },
  {
   "cell_type": "markdown",
   "id": "b0158d754d7b5d8e",
   "metadata": {
    "collapsed": false,
    "jupyter": {
     "outputs_hidden": false
    }
   },
   "source": [
    "### 3. Feature Analysis\n",
    "- grid exhibits a left skewed distribution with spikes at certain values, might need to play with value more but should be fine for now. Also exhibits a strong correlation with the target variable\n",
    "- driver_avg_finish_pos_season exhibits a normal distribution and shows correlation with the finishing in the top 3.\n",
    "- top3_driver_season_percentage exhibits a mostly uniform distribution but with a spike at zero which makes sense because most drivers won't finish in the top 3 in a given season. Also displays a correlation with finishing in the top 3.\n",
    "- Constructor_Top3_Percent exhibits a left skewed distribution with a spike at 0 which makes sense because most teams don't have a car in the top 3 in a given season. Also displays a correlation with finishing in the top 3.\n",
    "- driver_avg_finish_pos_season_lag exhibits all the same features as driver_avg_finishing_pos_season because it is the same data just pushed forward a year.\n",
    "- top3_driver_season_percentage_lag exhibits all the same features as top3_driver_season_percentage_lag because it is the same data just pushed forward a year.\n",
    "** For graphs and visualizations go to 5. Exploratory Visualization"
   ]
  },
  {
   "cell_type": "markdown",
   "id": "65804a29ba61326c",
   "metadata": {
    "collapsed": false,
    "jupyter": {
     "outputs_hidden": false
    }
   },
   "source": [
    "### 4. Correlation Analysis\n",
    "Correlation Heat Map:  \n",
    "![Heat Map](Images/CorrelationMap.png)\n",
    "- Correlation analysis reveals that there are no super strong correlations with the target variable but the strongest (positionOrder) cannot be used because that encapsulates the same data as the top_3. The top 3 correlations are Constructor_Top3_Percent(positive), top3_driver_season_percentage(positive), and grid(negative)\n",
    "- Strong correlations are observed between top3_driver_season_percentage and Constructor_Top3_Percent (and also the lag for both) suggesting potential multicollinearity which makes sense as these are highly related."
   ]
  },
  {
   "cell_type": "markdown",
   "id": "afe72ef9b2e27b3b",
   "metadata": {
    "collapsed": false,
    "jupyter": {
     "outputs_hidden": false
    }
   },
   "source": [
    "### 5. Exploratory Visualization\n",
    "- #### Grid:  \n",
    "![Grid Distribution](Images/GridDistribution.png)  \n",
    "![Grid](Images/grid.png)  \n",
    "##### It can be seen that the distributions for the top 3 and not in the top 3 are very different indicating that this could be a very good predictor.\n",
    "- #### driver_avg_finish_pos_season:  \n",
    "![driver_avg_finish_pos_season dist](Images/driver_avg_finish_pos_seasonDistribution.png)  \n",
    "![driver_avg_finish_pos_season](Images/PositionOrderVsdriver_avg_finish_pos_season.png)\n",
    "##### Distributions for top 3 and not in the top 3 are a bit different could be used for prediction.\n",
    "- #### top3_driver_season_percentage: \n",
    "![top3_driver_season_percentage dist](Images/top3_driver_season_percentageDistribution.png)  \n",
    "![top3_driver_season_percentagen](Images/top3_driver_season_percentage.png)\n",
    "##### Distributions for top 3 and not in the top 3 are decently different because of the spike at zero for not in top 3 could be a good feature for prediction.\n",
    "- #### Constructor_Top3_Percent: \n",
    "![Constructor_Top3_Percent dist](Images/Constructor_Top3_PercentDistribution.png)  \n",
    "![Constructor_Top3_Percent](Images/Constructor_Top_3Percent.png)\n",
    "##### Distributions for top 3 and not in the top 3 are decently different again because of the spike at zero for not in top 3 could be a good feature for prediction.\n",
    "- #### driver_avg_finish_pos_season_lag: \n",
    "![driver_avg_finish_pos_season_lag dist](Images/driver_avg_finish_pos_season_lagDistribution.png)  \n",
    "![Constructor_Top3_Percent](Images/driver_avg_pos_season_lag.png)\n",
    "##### Very similar to its non lag parent, same findings.\n",
    "- #### top3_driver_season_percentage_lag: \n",
    "![driver_avg_finish_pos_season_lag dist](Images/top3_driver_season_percentage_lagDistribution.png)  \n",
    "![Constructor_Top3_Percent](Images/top3_driver_season_percentage_lag.png)\n",
    "##### Very similar to its non lag parent, same findings."
   ]
  },
  {
   "cell_type": "markdown",
   "id": "f89a4c44653b17ec",
   "metadata": {
    "collapsed": false,
    "jupyter": {
     "outputs_hidden": false
    }
   },
   "source": [
    "## Next Steps:"
   ]
  },
  {
   "cell_type": "markdown",
   "id": "64f8cd0e4e26465d",
   "metadata": {
    "collapsed": false,
    "jupyter": {
     "outputs_hidden": false
    }
   },
   "source": [
    "### 1. Data Preprocessing\n",
    "- There was missing data after merging many of the data sources and these instances with missing values were deleted from the data set\n",
    "- Need to scale features for use with SVMs in modeling, if necessary will scale all the values by making them all into z-score"
   ]
  },
  {
   "cell_type": "markdown",
   "id": "3575dbcd92ef4346",
   "metadata": {
    "collapsed": false,
    "jupyter": {
     "outputs_hidden": false
    }
   },
   "source": [
    "### 2. Modeling\n",
    "- The best models to use on this data for the given features is Decision Trees and Random Forest because the features distributions vary greatly for if they are in the top 3 or not and these model work well when this is the case.\n",
    "- Split the data into a test and training set based on year to prevent data leakage, then used grid search to cross validate the model while finding the best parameters\n",
    "- Best model found was a Decision Tree with an AUC score of 0.85 and .71 on the train and test sets respectively. What this means is that the model does an ok job at discriminating between drivers who will and who won't be in the top 3 for a certain race and that there isn't a high trade off between true positive rate and false positive rate. The large difference between the training and test scores also indicates that the model is overfit even after hyper tuning meaning that there is probably a problem with the data which can be address in another iteration of this exploration.\n",
    "- This model is easily explainable because it is just a series of if else statements so it will be easy to explain to clients exactly how the answers are found. This model is also easily scalable in a production environment because evaluating if else statements takes very little computational power also meaning that it could be deployed on a small computer trackside if need be \n"
   ]
  },
  {
   "cell_type": "markdown",
   "id": "c1a17cea9388641f",
   "metadata": {
    "collapsed": false,
    "jupyter": {
     "outputs_hidden": false
    }
   },
   "source": [
    "# Conclusion\n",
    "There are multiple features that can be good discriminators for the target feature as their distributions vary for the top 3 and not top 3 classes of the target feature and we already used them to build a decent model. This however revealed that there are some flaws in the data as we had an over fit model even after hyper tuning but this is useful information and shows that in the next iteration of this project we will have to revisit some processes and improve them to try and get a better model."
   ]
  }
 ],
 "metadata": {
  "kernelspec": {
   "display_name": "Python 3 (ipykernel)",
   "language": "python",
   "name": "python3"
  },
  "language_info": {
   "codemirror_mode": {
    "name": "ipython",
    "version": 3
   },
   "file_extension": ".py",
   "mimetype": "text/x-python",
   "name": "python",
   "nbconvert_exporter": "python",
   "pygments_lexer": "ipython3",
   "version": "3.11.7"
  }
 },
 "nbformat": 4,
 "nbformat_minor": 5
}
