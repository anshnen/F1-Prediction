{
 "cells": [
  {
   "cell_type": "markdown",
   "id": "9d6ddaa3-7e29-4bc7-8cfe-d23827795018",
   "metadata": {},
   "source": [
    "Data Prep and Feature Engineering"
   ]
  },
  {
   "cell_type": "markdown",
   "id": "6582cec2-555d-4335-a45c-5d28aa537150",
   "metadata": {},
   "source": [
    "Author: Ansh Nenwani"
   ]
  },
  {
   "cell_type": "code",
   "execution_count": 1,
   "id": "587aa5de-8760-42f4-b2e0-afdd96fa6b7d",
   "metadata": {
    "ExecuteTime": {
     "end_time": "2024-04-26T18:54:57.162600Z",
     "start_time": "2024-04-26T18:54:56.819852Z"
    }
   },
   "outputs": [],
   "source": [
    "import pandas as pd\n",
    "import numpy as np\n",
    "import matplotlib.pyplot as plt\n",
    "import seaborn as sns\n",
    "import swifter\n",
    "import warnings\n",
    "%matplotlib inline\n",
    "sns.set_theme(style='darkgrid')\n",
    "warnings.filterwarnings(action='once')"
   ]
  },
  {
   "cell_type": "markdown",
   "id": "19825b55-4d21-432c-b74d-51377f407d8c",
   "metadata": {},
   "source": [
    "## Data Preparation"
   ]
  },
  {
   "cell_type": "code",
   "execution_count": 2,
   "id": "94a06709-866d-49b3-8e21-126135b60543",
   "metadata": {
    "ExecuteTime": {
     "end_time": "2024-04-26T18:54:57.242025Z",
     "start_time": "2024-04-26T18:54:57.163625Z"
    }
   },
   "outputs": [],
   "source": [
    "# Reading in all the necessary data\n",
    "races_df = pd.read_csv('Data/races.csv')\n",
    "results_df = pd.read_csv('Data/results.csv')"
   ]
  },
  {
   "cell_type": "code",
   "execution_count": 3,
   "id": "5691bc12-b0a2-441d-9657-56ab5138e36c",
   "metadata": {
    "ExecuteTime": {
     "end_time": "2024-04-26T18:54:57.301220Z",
     "start_time": "2024-04-26T18:54:57.244050Z"
    }
   },
   "outputs": [
    {
     "data": {
      "text/html": [
       "<div>\n",
       "<style scoped>\n",
       "    .dataframe tbody tr th:only-of-type {\n",
       "        vertical-align: middle;\n",
       "    }\n",
       "\n",
       "    .dataframe tbody tr th {\n",
       "        vertical-align: top;\n",
       "    }\n",
       "\n",
       "    .dataframe thead th {\n",
       "        text-align: right;\n",
       "    }\n",
       "</style>\n",
       "<table border=\"1\" class=\"dataframe\">\n",
       "  <thead>\n",
       "    <tr style=\"text-align: right;\">\n",
       "      <th></th>\n",
       "      <th>resultId</th>\n",
       "      <th>raceId</th>\n",
       "      <th>driverId</th>\n",
       "      <th>constructorId</th>\n",
       "      <th>number</th>\n",
       "      <th>grid</th>\n",
       "      <th>position</th>\n",
       "      <th>positionText</th>\n",
       "      <th>positionOrder</th>\n",
       "      <th>points</th>\n",
       "      <th>...</th>\n",
       "      <th>time</th>\n",
       "      <th>milliseconds</th>\n",
       "      <th>fastestLap</th>\n",
       "      <th>rank</th>\n",
       "      <th>fastestLapTime</th>\n",
       "      <th>fastestLapSpeed</th>\n",
       "      <th>statusId</th>\n",
       "      <th>year</th>\n",
       "      <th>round</th>\n",
       "      <th>circuitId</th>\n",
       "    </tr>\n",
       "  </thead>\n",
       "  <tbody>\n",
       "    <tr>\n",
       "      <th>0</th>\n",
       "      <td>1</td>\n",
       "      <td>18</td>\n",
       "      <td>1</td>\n",
       "      <td>1</td>\n",
       "      <td>22</td>\n",
       "      <td>1</td>\n",
       "      <td>1</td>\n",
       "      <td>1</td>\n",
       "      <td>1</td>\n",
       "      <td>10.0</td>\n",
       "      <td>...</td>\n",
       "      <td>1:34:50.616</td>\n",
       "      <td>5690616</td>\n",
       "      <td>39</td>\n",
       "      <td>2</td>\n",
       "      <td>1:27.452</td>\n",
       "      <td>218.300</td>\n",
       "      <td>1</td>\n",
       "      <td>2008</td>\n",
       "      <td>1</td>\n",
       "      <td>1</td>\n",
       "    </tr>\n",
       "    <tr>\n",
       "      <th>1</th>\n",
       "      <td>2</td>\n",
       "      <td>18</td>\n",
       "      <td>2</td>\n",
       "      <td>2</td>\n",
       "      <td>3</td>\n",
       "      <td>5</td>\n",
       "      <td>2</td>\n",
       "      <td>2</td>\n",
       "      <td>2</td>\n",
       "      <td>8.0</td>\n",
       "      <td>...</td>\n",
       "      <td>+5.478</td>\n",
       "      <td>5696094</td>\n",
       "      <td>41</td>\n",
       "      <td>3</td>\n",
       "      <td>1:27.739</td>\n",
       "      <td>217.586</td>\n",
       "      <td>1</td>\n",
       "      <td>2008</td>\n",
       "      <td>1</td>\n",
       "      <td>1</td>\n",
       "    </tr>\n",
       "    <tr>\n",
       "      <th>2</th>\n",
       "      <td>3</td>\n",
       "      <td>18</td>\n",
       "      <td>3</td>\n",
       "      <td>3</td>\n",
       "      <td>7</td>\n",
       "      <td>7</td>\n",
       "      <td>3</td>\n",
       "      <td>3</td>\n",
       "      <td>3</td>\n",
       "      <td>6.0</td>\n",
       "      <td>...</td>\n",
       "      <td>+8.163</td>\n",
       "      <td>5698779</td>\n",
       "      <td>41</td>\n",
       "      <td>5</td>\n",
       "      <td>1:28.090</td>\n",
       "      <td>216.719</td>\n",
       "      <td>1</td>\n",
       "      <td>2008</td>\n",
       "      <td>1</td>\n",
       "      <td>1</td>\n",
       "    </tr>\n",
       "    <tr>\n",
       "      <th>3</th>\n",
       "      <td>4</td>\n",
       "      <td>18</td>\n",
       "      <td>4</td>\n",
       "      <td>4</td>\n",
       "      <td>5</td>\n",
       "      <td>11</td>\n",
       "      <td>4</td>\n",
       "      <td>4</td>\n",
       "      <td>4</td>\n",
       "      <td>5.0</td>\n",
       "      <td>...</td>\n",
       "      <td>+17.181</td>\n",
       "      <td>5707797</td>\n",
       "      <td>58</td>\n",
       "      <td>7</td>\n",
       "      <td>1:28.603</td>\n",
       "      <td>215.464</td>\n",
       "      <td>1</td>\n",
       "      <td>2008</td>\n",
       "      <td>1</td>\n",
       "      <td>1</td>\n",
       "    </tr>\n",
       "    <tr>\n",
       "      <th>4</th>\n",
       "      <td>5</td>\n",
       "      <td>18</td>\n",
       "      <td>5</td>\n",
       "      <td>1</td>\n",
       "      <td>23</td>\n",
       "      <td>3</td>\n",
       "      <td>5</td>\n",
       "      <td>5</td>\n",
       "      <td>5</td>\n",
       "      <td>4.0</td>\n",
       "      <td>...</td>\n",
       "      <td>+18.014</td>\n",
       "      <td>5708630</td>\n",
       "      <td>43</td>\n",
       "      <td>1</td>\n",
       "      <td>1:27.418</td>\n",
       "      <td>218.385</td>\n",
       "      <td>1</td>\n",
       "      <td>2008</td>\n",
       "      <td>1</td>\n",
       "      <td>1</td>\n",
       "    </tr>\n",
       "    <tr>\n",
       "      <th>...</th>\n",
       "      <td>...</td>\n",
       "      <td>...</td>\n",
       "      <td>...</td>\n",
       "      <td>...</td>\n",
       "      <td>...</td>\n",
       "      <td>...</td>\n",
       "      <td>...</td>\n",
       "      <td>...</td>\n",
       "      <td>...</td>\n",
       "      <td>...</td>\n",
       "      <td>...</td>\n",
       "      <td>...</td>\n",
       "      <td>...</td>\n",
       "      <td>...</td>\n",
       "      <td>...</td>\n",
       "      <td>...</td>\n",
       "      <td>...</td>\n",
       "      <td>...</td>\n",
       "      <td>...</td>\n",
       "      <td>...</td>\n",
       "      <td>...</td>\n",
       "    </tr>\n",
       "    <tr>\n",
       "      <th>26075</th>\n",
       "      <td>26081</td>\n",
       "      <td>1110</td>\n",
       "      <td>817</td>\n",
       "      <td>213</td>\n",
       "      <td>3</td>\n",
       "      <td>19</td>\n",
       "      <td>16</td>\n",
       "      <td>16</td>\n",
       "      <td>16</td>\n",
       "      <td>0.0</td>\n",
       "      <td>...</td>\n",
       "      <td>+1:43.071</td>\n",
       "      <td>5053521</td>\n",
       "      <td>25</td>\n",
       "      <td>15</td>\n",
       "      <td>1:50.994</td>\n",
       "      <td>227.169</td>\n",
       "      <td>1</td>\n",
       "      <td>2023</td>\n",
       "      <td>12</td>\n",
       "      <td>13</td>\n",
       "    </tr>\n",
       "    <tr>\n",
       "      <th>26076</th>\n",
       "      <td>26082</td>\n",
       "      <td>1110</td>\n",
       "      <td>858</td>\n",
       "      <td>3</td>\n",
       "      <td>2</td>\n",
       "      <td>18</td>\n",
       "      <td>17</td>\n",
       "      <td>17</td>\n",
       "      <td>17</td>\n",
       "      <td>0.0</td>\n",
       "      <td>...</td>\n",
       "      <td>+1:44.476</td>\n",
       "      <td>5054926</td>\n",
       "      <td>37</td>\n",
       "      <td>9</td>\n",
       "      <td>1:50.486</td>\n",
       "      <td>228.213</td>\n",
       "      <td>1</td>\n",
       "      <td>2023</td>\n",
       "      <td>12</td>\n",
       "      <td>13</td>\n",
       "    </tr>\n",
       "    <tr>\n",
       "      <th>26077</th>\n",
       "      <td>26083</td>\n",
       "      <td>1110</td>\n",
       "      <td>807</td>\n",
       "      <td>210</td>\n",
       "      <td>27</td>\n",
       "      <td>0</td>\n",
       "      <td>18</td>\n",
       "      <td>18</td>\n",
       "      <td>18</td>\n",
       "      <td>0.0</td>\n",
       "      <td>...</td>\n",
       "      <td>+1:50.450</td>\n",
       "      <td>5060900</td>\n",
       "      <td>26</td>\n",
       "      <td>4</td>\n",
       "      <td>1:49.907</td>\n",
       "      <td>229.415</td>\n",
       "      <td>1</td>\n",
       "      <td>2023</td>\n",
       "      <td>12</td>\n",
       "      <td>13</td>\n",
       "    </tr>\n",
       "    <tr>\n",
       "      <th>26078</th>\n",
       "      <td>26084</td>\n",
       "      <td>1110</td>\n",
       "      <td>832</td>\n",
       "      <td>6</td>\n",
       "      <td>55</td>\n",
       "      <td>4</td>\n",
       "      <td>\\N</td>\n",
       "      <td>R</td>\n",
       "      <td>19</td>\n",
       "      <td>0.0</td>\n",
       "      <td>...</td>\n",
       "      <td>\\N</td>\n",
       "      <td>\\N</td>\n",
       "      <td>9</td>\n",
       "      <td>19</td>\n",
       "      <td>1:53.138</td>\n",
       "      <td>222.864</td>\n",
       "      <td>130</td>\n",
       "      <td>2023</td>\n",
       "      <td>12</td>\n",
       "      <td>13</td>\n",
       "    </tr>\n",
       "    <tr>\n",
       "      <th>26079</th>\n",
       "      <td>26085</td>\n",
       "      <td>1110</td>\n",
       "      <td>857</td>\n",
       "      <td>1</td>\n",
       "      <td>81</td>\n",
       "      <td>5</td>\n",
       "      <td>\\N</td>\n",
       "      <td>R</td>\n",
       "      <td>20</td>\n",
       "      <td>0.0</td>\n",
       "      <td>...</td>\n",
       "      <td>\\N</td>\n",
       "      <td>\\N</td>\n",
       "      <td>\\N</td>\n",
       "      <td>0</td>\n",
       "      <td>\\N</td>\n",
       "      <td>\\N</td>\n",
       "      <td>130</td>\n",
       "      <td>2023</td>\n",
       "      <td>12</td>\n",
       "      <td>13</td>\n",
       "    </tr>\n",
       "  </tbody>\n",
       "</table>\n",
       "<p>26080 rows × 21 columns</p>\n",
       "</div>"
      ],
      "text/plain": [
       "       resultId  raceId  driverId  constructorId number  grid position  \\\n",
       "0             1      18         1              1     22     1        1   \n",
       "1             2      18         2              2      3     5        2   \n",
       "2             3      18         3              3      7     7        3   \n",
       "3             4      18         4              4      5    11        4   \n",
       "4             5      18         5              1     23     3        5   \n",
       "...         ...     ...       ...            ...    ...   ...      ...   \n",
       "26075     26081    1110       817            213      3    19       16   \n",
       "26076     26082    1110       858              3      2    18       17   \n",
       "26077     26083    1110       807            210     27     0       18   \n",
       "26078     26084    1110       832              6     55     4       \\N   \n",
       "26079     26085    1110       857              1     81     5       \\N   \n",
       "\n",
       "      positionText  positionOrder  points  ...         time milliseconds  \\\n",
       "0                1              1    10.0  ...  1:34:50.616      5690616   \n",
       "1                2              2     8.0  ...       +5.478      5696094   \n",
       "2                3              3     6.0  ...       +8.163      5698779   \n",
       "3                4              4     5.0  ...      +17.181      5707797   \n",
       "4                5              5     4.0  ...      +18.014      5708630   \n",
       "...            ...            ...     ...  ...          ...          ...   \n",
       "26075           16             16     0.0  ...    +1:43.071      5053521   \n",
       "26076           17             17     0.0  ...    +1:44.476      5054926   \n",
       "26077           18             18     0.0  ...    +1:50.450      5060900   \n",
       "26078            R             19     0.0  ...           \\N           \\N   \n",
       "26079            R             20     0.0  ...           \\N           \\N   \n",
       "\n",
       "      fastestLap rank fastestLapTime fastestLapSpeed statusId  year  round  \\\n",
       "0             39    2       1:27.452         218.300        1  2008      1   \n",
       "1             41    3       1:27.739         217.586        1  2008      1   \n",
       "2             41    5       1:28.090         216.719        1  2008      1   \n",
       "3             58    7       1:28.603         215.464        1  2008      1   \n",
       "4             43    1       1:27.418         218.385        1  2008      1   \n",
       "...          ...  ...            ...             ...      ...   ...    ...   \n",
       "26075         25   15       1:50.994         227.169        1  2023     12   \n",
       "26076         37    9       1:50.486         228.213        1  2023     12   \n",
       "26077         26    4       1:49.907         229.415        1  2023     12   \n",
       "26078          9   19       1:53.138         222.864      130  2023     12   \n",
       "26079         \\N    0             \\N              \\N      130  2023     12   \n",
       "\n",
       "       circuitId  \n",
       "0              1  \n",
       "1              1  \n",
       "2              1  \n",
       "3              1  \n",
       "4              1  \n",
       "...          ...  \n",
       "26075         13  \n",
       "26076         13  \n",
       "26077         13  \n",
       "26078         13  \n",
       "26079         13  \n",
       "\n",
       "[26080 rows x 21 columns]"
      ]
     },
     "execution_count": 3,
     "metadata": {},
     "output_type": "execute_result"
    }
   ],
   "source": [
    "results_df = results_df.merge(races_df[['year','round', 'raceId', 'circuitId']], left_on='raceId', right_on='raceId', how='left', suffixes=['','_drop'])\n",
    "results_df"
   ]
  },
  {
   "cell_type": "code",
   "execution_count": 4,
   "id": "33b9213d-7198-48f8-a28f-e095925f67e3",
   "metadata": {
    "ExecuteTime": {
     "end_time": "2024-04-26T18:54:57.316810Z",
     "start_time": "2024-04-26T18:54:57.306153Z"
    }
   },
   "outputs": [],
   "source": [
    "drop_columns = []\n",
    "for column in results_df.columns:\n",
    "    if '_extra' in column:\n",
    "        drop_columns.append(column)\n",
    "results_df.drop(columns=drop_columns, inplace=True)\n",
    "results_df.drop(columns=['number','position','positionText', 'laps', 'time', 'milliseconds', 'fastestLap', 'rank', 'fastestLapTime', 'fastestLapSpeed'], inplace=True)"
   ]
  },
  {
   "cell_type": "markdown",
   "id": "a4986c3c-7ebc-43a2-b21a-af62382f0915",
   "metadata": {},
   "source": [
    "## Feature Engineering"
   ]
  },
  {
   "cell_type": "code",
   "execution_count": 5,
   "id": "1d0aab48-d307-49e3-aa8b-5a2b67b03a7a",
   "metadata": {
    "ExecuteTime": {
     "end_time": "2024-04-26T18:54:57.337638Z",
     "start_time": "2024-04-26T18:54:57.318692Z"
    }
   },
   "outputs": [],
   "source": [
    "results_df['top_3'] = results_df.positionOrder < 4\n",
    "results_df['top_3_label'] = np.where(results_df['top_3'] == True, 'yes', 'no')"
   ]
  },
  {
   "cell_type": "code",
   "execution_count": 6,
   "id": "8d708787-dc7c-4fa0-aa77-c1e1731f1e3b",
   "metadata": {
    "ExecuteTime": {
     "end_time": "2024-04-26T18:54:57.347136Z",
     "start_time": "2024-04-26T18:54:57.339884Z"
    }
   },
   "outputs": [],
   "source": [
    "def top3_finishes(row, df):\n",
    "    top_3_count = df[(df.year == row.year) & (df['round'] < row['round']) & (df.driverId == row.driverId)].top_3.sum()\n",
    "    top_3_freq = top_3_count / df[(df.year == row.year) & (df.driverId == row.driverId) & (df['round'] < row['round'])].driverId.count()\n",
    "    return top_3_freq * 100\n",
    "    "
   ]
  },
  {
   "cell_type": "code",
   "execution_count": 7,
   "id": "33800405-a588-4a33-b1c8-783c258d9017",
   "metadata": {
    "ExecuteTime": {
     "end_time": "2024-04-26T18:55:29.603877Z",
     "start_time": "2024-04-26T18:54:57.349189Z"
    }
   },
   "outputs": [
    {
     "name": "stderr",
     "output_type": "stream",
     "text": [
      "/home/alexsearle/anaconda3/envs/testing/lib/python3.8/site-packages/ipywidgets/widgets/widget.py:528: DeprecationWarning: The `ipykernel.comm.Comm` class has been deprecated. Please use the `comm` module instead.For creating comms, use the function `from comm import create_comm`.\n",
      "  self.comm = Comm(**args)\n"
     ]
    },
    {
     "data": {
      "application/vnd.jupyter.widget-view+json": {
       "model_id": "23de298b878743c8b9e321aa74398eb3",
       "version_major": 2,
       "version_minor": 0
      },
      "text/plain": [
       "Pandas Apply:   0%|          | 0/26080 [00:00<?, ?it/s]"
      ]
     },
     "metadata": {},
     "output_type": "display_data"
    },
    {
     "name": "stderr",
     "output_type": "stream",
     "text": [
      "/tmp/ipykernel_6973/3880751005.py:3: RuntimeWarning: invalid value encountered in scalar divide\n",
      "  top_3_freq = top_3_count / df[(df.year == row.year) & (df.driverId == row.driverId) & (df['round'] < row['round'])].driverId.count()\n"
     ]
    },
    {
     "name": "stdout",
     "output_type": "stream",
     "text": [
      "<class 'pandas.core.frame.DataFrame'>\n",
      "RangeIndex: 26080 entries, 0 to 26079\n",
      "Data columns (total 14 columns):\n",
      " #   Column                         Non-Null Count  Dtype  \n",
      "---  ------                         --------------  -----  \n",
      " 0   resultId                       26080 non-null  int64  \n",
      " 1   raceId                         26080 non-null  int64  \n",
      " 2   driverId                       26080 non-null  int64  \n",
      " 3   constructorId                  26080 non-null  int64  \n",
      " 4   grid                           26080 non-null  int64  \n",
      " 5   positionOrder                  26080 non-null  int64  \n",
      " 6   points                         26080 non-null  float64\n",
      " 7   statusId                       26080 non-null  int64  \n",
      " 8   year                           26080 non-null  int64  \n",
      " 9   round                          26080 non-null  int64  \n",
      " 10  circuitId                      26080 non-null  int64  \n",
      " 11  top_3                          26080 non-null  bool   \n",
      " 12  top_3_label                    26080 non-null  object \n",
      " 13  top3_driver_season_percentage  22848 non-null  float64\n",
      "dtypes: bool(1), float64(2), int64(10), object(1)\n",
      "memory usage: 2.6+ MB\n"
     ]
    }
   ],
   "source": [
    "results_df['top3_driver_season_percentage'] = results_df.swifter.apply(top3_finishes, axis=1, args=(results_df,))\n",
    "results_df.info()"
   ]
  },
  {
   "cell_type": "code",
   "execution_count": 8,
   "id": "60c7b5df-cd8e-498a-8214-01e0069b3091",
   "metadata": {
    "ExecuteTime": {
     "end_time": "2024-04-26T18:55:29.610033Z",
     "start_time": "2024-04-26T18:55:29.605725Z"
    }
   },
   "outputs": [],
   "source": [
    "def avg_finish_position_season(row, df):\n",
    "    return df[(df.driverId == row.driverId) & (df.year == df.year) & (df['round'] < row['round'])].positionOrder.mean()"
   ]
  },
  {
   "cell_type": "code",
   "execution_count": 9,
   "id": "05b7fb0c-679f-4a06-9f5e-401c7a1e7b2f",
   "metadata": {
    "ExecuteTime": {
     "end_time": "2024-04-26T18:55:47.933442Z",
     "start_time": "2024-04-26T18:55:29.611425Z"
    }
   },
   "outputs": [
    {
     "name": "stderr",
     "output_type": "stream",
     "text": [
      "/home/alexsearle/anaconda3/envs/testing/lib/python3.8/site-packages/ipywidgets/widgets/widget.py:528: DeprecationWarning: The `ipykernel.comm.Comm` class has been deprecated. Please use the `comm` module instead.For creating comms, use the function `from comm import create_comm`.\n",
      "  self.comm = Comm(**args)\n"
     ]
    },
    {
     "data": {
      "application/vnd.jupyter.widget-view+json": {
       "model_id": "7651fdba2f334c3fabda78540a107e29",
       "version_major": 2,
       "version_minor": 0
      },
      "text/plain": [
       "Pandas Apply:   0%|          | 0/26080 [00:00<?, ?it/s]"
      ]
     },
     "metadata": {},
     "output_type": "display_data"
    }
   ],
   "source": [
    "results_df['driver_avg_finish_pos_season'] = results_df.swifter.apply(avg_finish_position_season, axis=1, args=(results_df,))"
   ]
  },
  {
   "cell_type": "code",
   "execution_count": 10,
   "id": "e8157447-bbc6-4d90-8e66-85424d6b49e8",
   "metadata": {
    "ExecuteTime": {
     "end_time": "2024-04-26T18:55:47.939279Z",
     "start_time": "2024-04-26T18:55:47.934483Z"
    }
   },
   "outputs": [],
   "source": [
    "def constructor_top_3(row, df):\n",
    "    top_3_count = df[(df['year'] == row.year) & (df.constructorId == row.constructorId) & (df['round'] < row['round'])].top_3.sum()\n",
    "    top_3_freq = top_3_count / df[(df.year == row.year) & (df.constructorId == row.constructorId) & (df['round'] < row['round'])].driverId.count()\n",
    "    return top_3_freq * 100"
   ]
  },
  {
   "cell_type": "code",
   "execution_count": 11,
   "id": "9c1340daea6f4c39",
   "metadata": {
    "ExecuteTime": {
     "end_time": "2024-04-26T18:56:23.510953Z",
     "start_time": "2024-04-26T18:55:47.940664Z"
    }
   },
   "outputs": [
    {
     "name": "stderr",
     "output_type": "stream",
     "text": [
      "/home/alexsearle/anaconda3/envs/testing/lib/python3.8/site-packages/ipywidgets/widgets/widget.py:528: DeprecationWarning: The `ipykernel.comm.Comm` class has been deprecated. Please use the `comm` module instead.For creating comms, use the function `from comm import create_comm`.\n",
      "  self.comm = Comm(**args)\n"
     ]
    },
    {
     "data": {
      "application/vnd.jupyter.widget-view+json": {
       "model_id": "819f2ce6724941a0bc4abbc675aa853f",
       "version_major": 2,
       "version_minor": 0
      },
      "text/plain": [
       "Pandas Apply:   0%|          | 0/26080 [00:00<?, ?it/s]"
      ]
     },
     "metadata": {},
     "output_type": "display_data"
    },
    {
     "name": "stderr",
     "output_type": "stream",
     "text": [
      "/tmp/ipykernel_6973/3025212643.py:3: RuntimeWarning: invalid value encountered in scalar divide\n",
      "  top_3_freq = top_3_count / df[(df.year == row.year) & (df.constructorId == row.constructorId) & (df['round'] < row['round'])].driverId.count()\n"
     ]
    }
   ],
   "source": [
    "results_df['Constructor_Top3_Percent'] = results_df.swifter.apply(constructor_top_3, axis=1, args=(results_df,))"
   ]
  },
  {
   "cell_type": "code",
   "execution_count": 12,
   "id": "d9c3e101e380262",
   "metadata": {
    "ExecuteTime": {
     "end_time": "2024-04-26T18:56:23.516025Z",
     "start_time": "2024-04-26T18:56:23.511975Z"
    }
   },
   "outputs": [],
   "source": [
    "def percent_top_3_at_circuit(row, df):\n",
    "    return (df[(df.circuitId == row.circuitId) & (df.driverId == row.driverId) & (df['year'] < row['year'])].top_3.sum() / df[(df.circuitId == row.circuitId) & (df.driverId == row.driverId)].circuitId.count()) * 100"
   ]
  },
  {
   "cell_type": "code",
   "execution_count": 13,
   "id": "ce5945e807b3cf46",
   "metadata": {
    "ExecuteTime": {
     "end_time": "2024-04-26T18:56:56.023502Z",
     "start_time": "2024-04-26T18:56:23.517446Z"
    }
   },
   "outputs": [
    {
     "name": "stderr",
     "output_type": "stream",
     "text": [
      "/home/alexsearle/anaconda3/envs/testing/lib/python3.8/site-packages/ipywidgets/widgets/widget.py:528: DeprecationWarning: The `ipykernel.comm.Comm` class has been deprecated. Please use the `comm` module instead.For creating comms, use the function `from comm import create_comm`.\n",
      "  self.comm = Comm(**args)\n"
     ]
    },
    {
     "data": {
      "application/vnd.jupyter.widget-view+json": {
       "model_id": "54488427ae9f41538d627f888f336df9",
       "version_major": 2,
       "version_minor": 0
      },
      "text/plain": [
       "Pandas Apply:   0%|          | 0/26080 [00:00<?, ?it/s]"
      ]
     },
     "metadata": {},
     "output_type": "display_data"
    }
   ],
   "source": [
    "results_df['Top_3_at_circuit'] = results_df.swifter.apply(percent_top_3_at_circuit, axis=1, args=(results_df,))"
   ]
  },
  {
   "cell_type": "code",
   "execution_count": 14,
   "id": "cb8138a0a29335e",
   "metadata": {
    "ExecuteTime": {
     "end_time": "2024-04-26T18:56:56.030851Z",
     "start_time": "2024-04-26T18:56:56.024607Z"
    }
   },
   "outputs": [],
   "source": [
    "results_df.fillna(0, inplace=True)"
   ]
  },
  {
   "cell_type": "code",
   "execution_count": 15,
   "id": "18a3f7ce14425e",
   "metadata": {
    "ExecuteTime": {
     "end_time": "2024-04-26T18:56:56.058496Z",
     "start_time": "2024-04-26T18:56:56.031927Z"
    }
   },
   "outputs": [],
   "source": [
    "max_round = pd.DataFrame(results_df.groupby(['year'], as_index=False)['round'].max(), columns=['year', 'round'])\n",
    "max_round['year'] = max_round['year'] + 1"
   ]
  },
  {
   "cell_type": "code",
   "execution_count": 16,
   "id": "b5de470b-1936-441b-b576-f84cd3e662e8",
   "metadata": {
    "ExecuteTime": {
     "end_time": "2024-04-26T18:56:56.075560Z",
     "start_time": "2024-04-26T18:56:56.060258Z"
    }
   },
   "outputs": [],
   "source": [
    "last_race_stats = results_df.merge(max_round, on=['year'], how='left', suffixes=['', '_max_last_szn'])"
   ]
  },
  {
   "cell_type": "code",
   "execution_count": 17,
   "id": "dc5becb491fb5114",
   "metadata": {
    "ExecuteTime": {
     "end_time": "2024-04-26T18:56:56.112236Z",
     "start_time": "2024-04-26T18:56:56.077667Z"
    }
   },
   "outputs": [],
   "source": [
    "last_race_stats.dropna(inplace=True)\n",
    "lag_df = results_df.copy()\n",
    "lag_df['year'] = lag_df['year'] + 1\n",
    "last_race_stats = last_race_stats.merge(lag_df[['top3_driver_season_percentage', 'driver_avg_finish_pos_season', 'Constructor_Top3_Percent','year', 'round', 'driverId']], left_on=['year', 'round_max_last_szn', 'driverId'],right_on=['year', 'round', 'driverId'], how='left', suffixes=('', '_lag'))"
   ]
  },
  {
   "cell_type": "code",
   "execution_count": 18,
   "id": "4e5b5442fe12ae03",
   "metadata": {
    "ExecuteTime": {
     "end_time": "2024-04-26T18:56:56.124169Z",
     "start_time": "2024-04-26T18:56:56.114092Z"
    }
   },
   "outputs": [],
   "source": [
    "last_race_stats = last_race_stats.sort_values(['year', 'round'], ascending=True)"
   ]
  },
  {
   "cell_type": "code",
   "execution_count": 19,
   "id": "50441695-d4fb-4148-838a-41308d32409c",
   "metadata": {
    "ExecuteTime": {
     "end_time": "2024-04-26T18:56:56.152542Z",
     "start_time": "2024-04-26T18:56:56.125990Z"
    }
   },
   "outputs": [],
   "source": [
    "results_df = last_race_stats.copy()\n",
    "results_df.fillna(0, inplace=True)\n",
    "results_df.drop(columns=['resultId', 'raceId', 'constructorId'], inplace=True)\n",
    "results_df[['positionOrder', 'grid']].astype('int')\n",
    "results_df['year'] = pd.to_datetime(results_df['year'], format='%Y')"
   ]
  },
  {
   "cell_type": "code",
   "execution_count": 20,
   "id": "3803eb69-da2a-43dc-843d-8c8788d6d782",
   "metadata": {
    "ExecuteTime": {
     "end_time": "2024-04-26T18:56:56.344584Z",
     "start_time": "2024-04-26T18:56:56.154342Z"
    }
   },
   "outputs": [],
   "source": [
    "results_df.to_csv('Data/Modeling_v1.csv')"
   ]
  }
 ],
 "metadata": {
  "kernelspec": {
   "display_name": "Python 3 (ipykernel)",
   "language": "python",
   "name": "python3"
  },
  "language_info": {
   "codemirror_mode": {
    "name": "ipython",
    "version": 3
   },
   "file_extension": ".py",
   "mimetype": "text/x-python",
   "name": "python",
   "nbconvert_exporter": "python",
   "pygments_lexer": "ipython3",
   "version": "3.11.7"
  }
 },
 "nbformat": 4,
 "nbformat_minor": 5
}
